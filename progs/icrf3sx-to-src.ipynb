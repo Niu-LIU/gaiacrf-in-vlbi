{
 "cells": [
  {
   "cell_type": "markdown",
   "metadata": {},
   "source": [
    "**Rewrite the ICRF3 S/X catalog into .src format**\n",
    "\n",
    "The ICRF3 S/X catalog downloaded from the [IERS ICRS Center](http://hpiers.obspm.fr/icrs-pc/newwww/index.php\n",
    ") could not be used directly as the a priori file of radio source position. \n",
    "So it needs to be converted to .src format."
   ]
  },
  {
   "cell_type": "markdown",
   "metadata": {},
   "source": [
    "Two functions need to be done in this notebook\n",
    "\n",
    "- **write_solve_src** \n",
    "\n",
    "- **write_nnr_list**\n"
   ]
  },
  {
   "cell_type": "markdown",
   "metadata": {},
   "source": [
    "# 1) **write_solve_src**\n",
    "\n",
    "The file Sebastien used for the a priori file of ICRF2 and ICRF3 are listed below.\n",
    "\n",
    "*icrf2.src*\n",
    ">    0000+212   0  3 19.35003511    21 29  44.5075377     1.254 \n",
    "\n",
    "\n",
    "*icrf3.src*\n",
    ">0000+212     00 03 19.35000596    +21 29 44.5083164    1.0000\n",
    "\n",
    "The format is slight different.\n",
    "\n",
    "The column could be represented by the following\n",
    "\n",
    "- source name (IERS, IVS, or ICRF designation)\n",
    "- hour, minute, and second of RA\n",
    "- degree, arcminute, and arcsecond of declination\n",
    "- formal uncertainty in declination in mas. It will be used as the weight in the NNR if choosing the weighted NNR constraint. And maybe Sebastien prefers the uniform NNR so this column is set as 1.0000.\n",
    "- comment (optional)"
   ]
  },
  {
   "cell_type": "code",
   "execution_count": 1,
   "metadata": {},
   "outputs": [],
   "source": [
    "from astropy.coordinates import Angle\n",
    "import astropy.units as u\n",
    "import numpy as np\n",
    "import sys"
   ]
  },
  {
   "cell_type": "markdown",
   "metadata": {},
   "source": [
    "Then the function is defined below."
   ]
  },
  {
   "cell_type": "code",
   "execution_count": 2,
   "metadata": {},
   "outputs": [],
   "source": [
    "def write_sou_src(cat, ofile=None, header=\"\", comments=\"\"):\n",
    "    \"\"\"Write source position into .src format\n",
    "\n",
    "    Parameters\n",
    "    ----------\n",
    "    cat: astropy.table.Table object\n",
    "        catalog\n",
    "    ofile: string\n",
    "        output file name\n",
    "    comments: string\n",
    "        add comments to the end of each line\n",
    "\n",
    "    Return\n",
    "    ------\n",
    "    None\n",
    "    \"\"\"\n",
    "\n",
    "    # Open the file\n",
    "    if ofile is None:\n",
    "        fout = sys.stdout\n",
    "    else:\n",
    "        try:\n",
    "            fout = open(ofile, \"w\")\n",
    "        except Exception as e:\n",
    "            exit()\n",
    "\n",
    "    # Print header information\n",
    "    print(header, file=fout)\n",
    "\n",
    "    # Format of every line\n",
    "    if len(comments):\n",
    "        linefmt = \"%8s     %02d %02d %11.8f    %s %02d %10.7f  %7.3f  ! %s\"\n",
    "    else:\n",
    "        linefmt = \"%8s     %02d %02d %11.8f    %s %02d %10.7f  %7.3f\"\n",
    "\n",
    "    # Loop to write the position for every source\n",
    "    for i in range(len(cat)):\n",
    "        souname = cat[i][\"source_name\"]\n",
    "        ra, dec = cat[i][\"ra\"], cat[i][\"dec\"]\n",
    "        dec_err = cat[i][\"dec_err\"]\n",
    "\n",
    "        raang = Angle(ra * u.deg)\n",
    "        decang = Angle(dec * u.deg)\n",
    "        rah, ram, ras = raang.hms\n",
    "        decd, decm, decs = decang.dms\n",
    "\n",
    "        # When converting an Angle object into degrees using dms method,\n",
    "        # the degree, arcminute, and arcsecond extracted from the resulted tuple\n",
    "        # would be all negative if the Angle is negative.\n",
    "        # But we only want the degree part to be negative.\n",
    "        if dec < 0 and decd == 0:\n",
    "            decdstr = \"-00\"\n",
    "        else:\n",
    "            decdstr = \"{:+03.0f}\".format(decd)\n",
    "\n",
    "        decm, decs = np.fabs(decm), np.fabs(decs)\n",
    "\n",
    "        if len(comments):\n",
    "            print(linefmt % (souname, rah, ram, ras, decdstr, decm, decs, dec_err,\n",
    "                             comments), file=fout)\n",
    "        else:\n",
    "            print(linefmt % (souname, rah, ram, ras, decdstr, decm, decs, dec_err), file=fout)\n",
    "\n",
    "    # Close the file\n",
    "    if fout is not sys.stdout:\n",
    "        fout.close()"
   ]
  },
  {
   "cell_type": "markdown",
   "metadata": {},
   "source": [
    "I perform a test the code on  the ICRF2 and ICRF3 catalogs."
   ]
  },
  {
   "cell_type": "code",
   "execution_count": 3,
   "metadata": {},
   "outputs": [
    {
     "name": "stdout",
     "output_type": "stream",
     "text": [
      "\n",
      "0000+212     00 03 19.35003510    +21 29 44.5075377    1.252\n"
     ]
    }
   ],
   "source": [
    "from read_icrf import read_icrf2\n",
    "\n",
    "icrf2 = read_icrf2()\n",
    "icrf2.rename_column(\"iers_name\", \"source_name\")\n",
    "icrf2sub = icrf2[icrf2[\"source_name\"] == \"0000+212\"]\n",
    "write_sou_src(icrf2sub)"
   ]
  },
  {
   "cell_type": "code",
   "execution_count": 4,
   "metadata": {},
   "outputs": [
    {
     "name": "stdout",
     "output_type": "stream",
     "text": [
      "\n",
      "0000+212     00 03 19.35000596    +21 29 44.5083164    0.173\n"
     ]
    }
   ],
   "source": [
    "from read_icrf import read_icrf3\n",
    "\n",
    "icrf3 = read_icrf3()\n",
    "icrf3.rename_column(\"iers_name\", \"source_name\")\n",
    "icrf3sub = icrf3[icrf3[\"source_name\"] == \"0000+212\"]\n",
    "write_sou_src(icrf3sub)"
   ]
  },
  {
   "cell_type": "markdown",
   "metadata": {},
   "source": [
    "It works."
   ]
  },
  {
   "cell_type": "code",
   "execution_count": 5,
   "metadata": {},
   "outputs": [],
   "source": [
    "write_sou_src(icrf3, \"../logs/icrf3-sx.src\")"
   ]
  },
  {
   "cell_type": "markdown",
   "metadata": {},
   "source": [
    "# 2) **write_nnr_list**\n",
    "\n",
    "This is very simple, just to print the source list by every 8 sources per line."
   ]
  },
  {
   "cell_type": "code",
   "execution_count": 6,
   "metadata": {},
   "outputs": [],
   "source": [
    "def write_nnr_list(soulist, ofile=None):\n",
    "    \"\"\"Write source list by every 8 sources per line\n",
    "\n",
    "    Parameters\n",
    "    ----------\n",
    "    soulist: astropy.table.Table object\n",
    "        source list\n",
    "    ofile: string\n",
    "        output file name\n",
    "\n",
    "    Return\n",
    "    ------\n",
    "    None\n",
    "    \"\"\"\n",
    "\n",
    "    # Open the file\n",
    "    if ofile is None:\n",
    "        fout = sys.stdout\n",
    "    else:\n",
    "        fout = open(ofile, \"w\")\n",
    "\n",
    "    # Loop to write \n",
    "    print(\"    \", file=fout, end=\"\")\n",
    "    for i, sou in enumerate(soulist):\n",
    "        print(\"{:8}  \".format(sou), file=fout, end=\"\")\n",
    "        \n",
    "        if not (i+1) % 8:\n",
    "            print(\"\\\\\\n    \", file=fout, end=\"\")\n",
    "\n",
    "    # Close the file\n",
    "    if fout is not sys.stdout:\n",
    "        fout.close()"
   ]
  },
  {
   "cell_type": "markdown",
   "metadata": {},
   "source": [
    "For ICRF2 defining sources,"
   ]
  },
  {
   "cell_type": "code",
   "execution_count": 7,
   "metadata": {},
   "outputs": [
    {
     "name": "stdout",
     "output_type": "stream",
     "text": [
      "    0002-478  0007+106  0008-264  0010+405  0013-005  0016+731  0019+058  0035+413  \\\n",
      "    0048-097  0048-427  0059+581  0104-408  0107-610  0109+224  0110+495  0116-219  \\\n",
      "    0119+115  0131-522  0133+476  0134+311  0138-097  0151+474  0159+723  0202+319  \\\n",
      "    0215+015  0221+067  0230-790  0229+131  0234-301  0235-618  0234+285  0237-027  \\\n",
      "    0300+470  0302-623  0302+625  0306+102  0308-611  0307+380  0309+411  0322+222  \\\n",
      "    0332-403  0334-546  0342+147  0346-279  0358+210  0402-362  0403-132  0405-385  \\\n",
      "    0414-189  0420-014  0422+004  0426+273  0430+289  0437-454  0440+345  0446+112  \\\n",
      "    0454-810  0454-234  0458-020  0458+138  0506-612  0454+844  0506+101  0507+179  \\\n",
      "    0516-621  0515+208  0522-611  0524-460  0524-485  0524+034  0529+483  0534-611  \\\n",
      "    0534-340  0537-441  0536+145  0537-286  0544+273  0549-575  0552+398  0556+238  \\\n",
      "    0600+177  0642+449  0646-306  0648-165  0656+082  0657+172  0707+476  0716+714  \\\n",
      "    0722+145  0718+792  0727-115  0736+017  0738+491  0743-006  0743+259  0745+241  \\\n",
      "    0748+126  0759+183  0800+618  0805+046  0804+499  0805+410  0808+019  0812+367  \\\n",
      "    0814+425  0823+033  0827+243  0834-201  0851+202  0854-108  0912+029  0920-397  \\\n",
      "    0920+390  0925-203  0949+354  0955+476  0955+326  0954+658  1004-500  1012+232  \\\n",
      "    1013+054  1014+615  1015+359  1022-665  1022+194  1030+415  1030+074  1034-374  \\\n",
      "    1034-293  1038+528  1039+811  1042+071  1045-188  1049+215  1053+815  1055+018  \\\n",
      "    1101-536  1101+384  1111+149  1123+264  1124-186  1128+385  1130+009  1133-032  \\\n",
      "    1143-696  1144+402  1144-379  1145-071  1147+245  1149-084  1156-663  1156+295  \\\n",
      "    1213-172  1215+303  1219+044  1221+809  1226+373  1236+077  1240+381  1243-072  \\\n",
      "    1244-255  1252+119  1251-713  1300+580  1308+328  1313-333  1324+224  1325-558  \\\n",
      "    1334-127  1342+662  1342+663  1349-439  1351-018  1354-152  1357+769  1406-076  \\\n",
      "    1418+546  1417+385  1420-679  1423+146  1424-418  1432+200  1443-162  1448-648  \\\n",
      "    1451-400  1456+044  1459+480  1502+106  1502+036  1504+377  1508+572  1510-089  \\\n",
      "    1511-100  1514+197  1520+437  1519-273  1546+027  1548+056  1555+001  1554-643  \\\n",
      "    1557+032  1604-333  1606+106  1611-710  1614+051  1617+229  1619-680  1622-253  \\\n",
      "    1624-617  1637+574  1638+398  1639+230  1642+690  1633-810  1657-261  1657-562  \\\n",
      "    1659-621  1705+018  1706-174  1717+178  1726+455  1730-130  1725-795  1732+389  \\\n",
      "    1738+499  1738+476  1741-038  1743+173  1745+624  1749+096  1751+288  1754+155  \\\n",
      "    1758+388  1803+784  1800+440  1758-651  1806-458  1815-553  1823+689  1823+568  \\\n",
      "    1824-582  1831-711  1842+681  1846+322  1849+670  1908-201  1920-211  1921-293  \\\n",
      "    1925-610  1929+226  1933-400  1936-155  1935-692  1954+513  1954-388  1958-179  \\\n",
      "    2000+472  2002-375  2008-159  2029+121  2052-474  2059+034  2106+143  2106-413  \\\n",
      "    2113+293  2123-463  2126-158  2131-021  2136+141  2142-758  2150+173  2204-540  \\\n",
      "    2209+236  2220-351  2223-052  2227-088  2229+695  2232-488  2236-572  2244-372  \\\n",
      "    2245-328  2250+190  2254+074  2255-282  2300-683  2318+049  2326-477  2333-415  \\\n",
      "    2344-514  2351-154  2353-686  2355-534  2355-106  2356+385  2357-318  "
     ]
    }
   ],
   "source": [
    "icrf2def = icrf2[icrf2[\"type\"] == \"D\"]\n",
    "\n",
    "write_nnr_list(icrf2def[\"source_name\"])"
   ]
  },
  {
   "cell_type": "markdown",
   "metadata": {},
   "source": [
    "For ICRF3 defining sources,"
   ]
  },
  {
   "cell_type": "code",
   "execution_count": 10,
   "metadata": {},
   "outputs": [
    {
     "name": "stdout",
     "output_type": "stream",
     "text": [
      "    0002-478  0007+106  0009-148  0010+405  0013-005  0017+200  0016+731  0035-252  \\\n",
      "    0038-326  0044-846  0046+316  0047+023  0048-097  0054+161  0059+581  0104-408  \\\n",
      "    0107-610  0110+495  0133+476  0149+218  0159+723  0202-172  0202+319  0208-512  \\\n",
      "    0215+015  0221+067  0227-369  0230-790  0227+403  0234-301  0235-618  0235+164  \\\n",
      "    0237-027  0239+175  0256-005  0300+470  0302+625  0305+039  0308-611  0307+380  \\\n",
      "    0312+100  0316-444  0322+222  0332-403  0334-131  0346-279  0347-211  0346+800  \\\n",
      "    0355-669  0400-319  0402-362  0403-132  0406-127  0415+398  0420+022  0430+289  \\\n",
      "    0437-454  0454-810  0454-234  0458-020  0506-612  0454+844  0506+101  0507+179  \\\n",
      "    0510+559  0515+208  0522-611  0524-485  0524+034  0530-727  0529+483  0534-340  \\\n",
      "    0536+145  0537-286  0539-057  0544+273  0548+084  0552+398  0556+238  0605-085  \\\n",
      "    0607-157  0613+570  0615+820  0627-199  0642-349  0641+392  0646-306  0648-165  \\\n",
      "    0657+172  0700-465  0700-197  0716+714  0727-115  0738-674  0736+017  0738+491  \\\n",
      "    0742-562  0743-006  0743+259  0743+277  0748+126  0749+540  0759+183  0802-010  \\\n",
      "    0800+618  0804-267  0804+499  0805+410  0809-493  0808+019  0818-128  0826-373  \\\n",
      "    0829+089  0834-201  0834+250  0847-120  0855-716  0912+297  0918-534  0920+390  \\\n",
      "    0926-039  0930-080  0943+105  0951+268  0955+476  0954+658  1004-500  1004-217  \\\n",
      "    1012+232  1015+057  1016-311  1022-665  1022+194  1027-186  1034-374  1036-529  \\\n",
      "    1040+244  1042+071  1053+704  1059+282  1101-536  1111+149  1116-462  1124-186  \\\n",
      "    1130+009  1133-032  1143-696  1143-245  1143-332  1144+402  1144-379  1149-084  \\\n",
      "    1150+497  1219+044  1221+809  1222+131  1226+373  1227+255  1236+077  1243-160  \\\n",
      "    1243-072  1244-255  1245-457  1251-713  1300+580  1306-395  1308+328  1312-533  \\\n",
      "    1313-333  1324+224  1325+126  1325-558  1330+476  1330+022  1334-127  1348+308  \\\n",
      "    1351-018  1357+769  1406-076  1406-267  1412-368  1418+546  1420-679  1423+146  \\\n",
      "    1424-418  1428+370  1435-218  1443-162  1448+762  1448-648  1451-400  1502+106  \\\n",
      "    1504+377  1508+572  1510-089  1511-476  1511-558  1514+197  1520+437  1520+319  \\\n",
      "    1519-273  1538+149  1555+001  1557+032  1556-245  1600-445  1602-115  1606+106  \\\n",
      "    1606-398  1608+243  1619-680  1623+578  1624-617  1636+473  1639-062  1642+690  \\\n",
      "    1647-296  1657-261  1659+399  1705+018  1706-174  1717+178  1718-259  1725+044  \\\n",
      "    1730-130  1737-081  1741-038  1745+624  1746+470  1749+096  1751+288  1753+204  \\\n",
      "    1754+155  1758+388  1759-396  1806-458  1815-553  1823+689  1831-711  1846+322  \\\n",
      "    1849+670  1908+484  1908-201  1909+161  1921-293  1925-610  1929+226  1929-457  \\\n",
      "    1936+046  1936-155  1937-101  1935-692  1949-052  1951+355  1954-388  2000+472  \\\n",
      "    2000+148  2002-375  2008-159  2017+745  2022-077  2029+121  2036-034  2037+216  \\\n",
      "    2037-253  2052-474  2059+034  2111+400  2113+293  2109-811  2121+547  2142+110  \\\n",
      "    2143-156  2142-758  2149+056  2155+312  2155-304  2209+236  2210-257  2214+350  \\\n",
      "    2215+150  2216-038  2220-351  2227-088  2229+695  2232-488  2236-572  2244-372  \\\n",
      "    2245-328  2250+190  2254+074  2318+049  2319+317  2319+444  2325-150  2331-240  \\\n",
      "    2335-027  2336+598  2353-686  2353+816  2355-534  2355-106  2356+385  "
     ]
    }
   ],
   "source": [
    "icrf3def = icrf3[icrf3[\"type\"] == \"D\"]\n",
    "\n",
    "write_nnr_list(icrf3def[\"source_name\"])\n",
    "\n",
    "icrf3def.write(\"../logs/icrf3sx-defsou.list\", format=\"ascii.csv\",\n",
    "              include_names=[\"source_name\"],\n",
    "              overwrite=True)"
   ]
  }
 ],
 "metadata": {
  "hide_input": false,
  "kernelspec": {
   "display_name": "Python 3",
   "language": "python",
   "name": "python3"
  },
  "language_info": {
   "codemirror_mode": {
    "name": "ipython",
    "version": 3
   },
   "file_extension": ".py",
   "mimetype": "text/x-python",
   "name": "python",
   "nbconvert_exporter": "python",
   "pygments_lexer": "ipython3",
   "version": "3.7.4"
  },
  "latex_envs": {
   "LaTeX_envs_menu_present": true,
   "autoclose": false,
   "autocomplete": true,
   "bibliofile": "biblio.bib",
   "cite_by": "apalike",
   "current_citInitial": 1,
   "eqLabelWithNumbers": true,
   "eqNumInitial": 1,
   "hotkeys": {
    "equation": "Ctrl-E",
    "itemize": "Ctrl-I"
   },
   "labels_anchors": false,
   "latex_user_defs": false,
   "report_style_numbering": false,
   "user_envs_cfg": false
  }
 },
 "nbformat": 4,
 "nbformat_minor": 2
}
