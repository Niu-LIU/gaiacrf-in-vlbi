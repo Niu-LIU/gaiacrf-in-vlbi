{
 "cells": [
  {
   "cell_type": "markdown",
   "metadata": {},
   "source": [
    "In this notebook I will look at the radio source catalog (.sou file) from a VLBI solution denoted as `icrf2-ga-09`.\n",
    "\n",
    "Two comparisons need to do done:\n",
    "\n",
    "- icrf2-ga-09 vs. ICRF2\n",
    "- icrf2-ga-09 vs. Gaia DR2"
   ]
  },
  {
   "cell_type": "code",
   "execution_count": 8,
   "metadata": {},
   "outputs": [],
   "source": [
    "from my_progs.vlbi.read_sou import read_sou\n",
    "\n",
    "sol = read_sou(\"../data/icrf2-ga-09/icrf2-ga-09.sou\")"
   ]
  },
  {
   "cell_type": "code",
   "execution_count": 2,
   "metadata": {},
   "outputs": [
    {
     "data": {
      "text/html": [
       "<i>Table length=3581</i>\n",
       "<table id=\"table140443691644800\" class=\"table-striped table-bordered table-condensed\">\n",
       "<thead><tr><th>ivs_name</th><th>ra</th><th>ra_err</th><th>dec</th><th>dec_err</th><th>ra_dec_corr</th><th>pos_err</th><th>used_obs</th><th>total_obs</th><th>used_sess</th><th>total_sess</th><th>beg_date</th><th>end_date</th></tr></thead>\n",
       "<thead><tr><th></th><th>deg</th><th>mas</th><th>deg</th><th>mas</th><th></th><th>mas</th><th></th><th></th><th></th><th></th><th>MJD</th><th>MJD</th></tr></thead>\n",
       "<thead><tr><th>str8</th><th>float64</th><th>float64</th><th>float64</th><th>float64</th><th>float64</th><th>float64</th><th>int64</th><th>int64</th><th>int64</th><th>int64</th><th>float64</th><th>float64</th></tr></thead>\n",
       "<tr><td>2357-326</td><td>0.08499973895833332</td><td>0.30415965840404374</td><td>-31.649657387444442</td><td>0.6647</td><td>-0.084</td><td>0.665319323504631</td><td>40</td><td>42</td><td>1</td><td>1</td><td>52305.0</td><td>52305.0</td></tr>\n",
       "<tr><td>2358+406</td><td>0.22117315741666665</td><td>1.1968093703244034</td><td>40.90049810166666</td><td>1.4176</td><td>-0.174</td><td>1.4607618306993315</td><td>22</td><td>22</td><td>1</td><td>1</td><td>50241.0</td><td>50241.0</td></tr>\n",
       "<tr><td>2358-161</td><td>0.272203193125</td><td>0.3136874160930786</td><td>-14.148034419444445</td><td>0.6043</td><td>-0.746</td><td>0.6528295053246107</td><td>58</td><td>58</td><td>1</td><td>1</td><td>50631.0</td><td>50631.0</td></tr>\n",
       "<tr><td>2358+605</td><td>0.27958162604166664</td><td>1.5751078182118552</td><td>60.856334317055556</td><td>2.4301</td><td>-0.103</td><td>2.439301006467918</td><td>11</td><td>13</td><td>1</td><td>1</td><td>52305.0</td><td>52305.0</td></tr>\n",
       "<tr><td>2358+189</td><td>0.2859231842916667</td><td>0.03342223342442587</td><td>19.242722705027777</td><td>0.0518</td><td>0.09</td><td>0.05194796339315897</td><td>783</td><td>1037</td><td>24</td><td>24</td><td>50084.0</td><td>54906.0</td></tr>\n",
       "<tr><td>2359-221</td><td>0.5499271010833333</td><td>11.134037093682814</td><td>-20.113933510972224</td><td>26.3837</td><td>0.971</td><td>28.5308071620082</td><td>3</td><td>81</td><td>1</td><td>1</td><td>54817.0</td><td>54817.0</td></tr>\n",
       "<tr><td>0000-199</td><td>0.816455943125</td><td>1.6439998556278328</td><td>-18.302666065527777</td><td>4.5932</td><td>-0.814</td><td>4.791906595410224</td><td>11</td><td>36</td><td>1</td><td>1</td><td>54087.0</td><td>54087.0</td></tr>\n",
       "<tr><td>0000-197</td><td>0.8278125884583334</td><td>0.3284152123803375</td><td>-18.543790290222223</td><td>0.6356</td><td>-0.224</td><td>0.6412447540594635</td><td>76</td><td>87</td><td>2</td><td>2</td><td>50631.0</td><td>50687.0</td></tr>\n",
       "<tr><td>0000+212</td><td>0.830625050125</td><td>0.32342271422786095</td><td>21.49569659988889</td><td>0.6666</td><td>-0.422</td><td>0.6835091156999804</td><td>66</td><td>218</td><td>2</td><td>2</td><td>50084.0</td><td>50155.0</td></tr>\n",
       "<tr><td>...</td><td>...</td><td>...</td><td>...</td><td>...</td><td>...</td><td>...</td><td>...</td><td>...</td><td>...</td><td>...</td><td>...</td><td>...</td></tr>\n",
       "<tr><td>2354-021</td><td>359.35474145041667</td><td>0.1193996972543565</td><td>-0.12902519074999996</td><td>0.2668</td><td>-0.125</td><td>0.26731896759089185</td><td>89</td><td>89</td><td>1</td><td>1</td><td>50575.0</td><td>50575.0</td></tr>\n",
       "<tr><td>2354-117</td><td>359.37998985112495</td><td>0.07775717334332541</td><td>-10.57245097625</td><td>0.1856</td><td>-0.207</td><td>0.18643546774628691</td><td>86</td><td>90</td><td>1</td><td>1</td><td>50575.0</td><td>50575.0</td></tr>\n",
       "<tr><td>2355-534</td><td>359.47194199279164</td><td>0.06896435192794996</td><td>-52.8128640795</td><td>0.103</td><td>0.329</td><td>0.10690010361660235</td><td>187</td><td>262</td><td>41</td><td>42</td><td>47164.0</td><td>54705.0</td></tr>\n",
       "<tr><td>2355-106</td><td>359.5453433404583</td><td>0.01794171169526638</td><td>-9.664274616694444</td><td>0.0241</td><td>-0.181</td><td>0.024548507401032104</td><td>2709</td><td>3278</td><td>194</td><td>199</td><td>47393.0</td><td>54892.0</td></tr>\n",
       "<tr><td>2355-291</td><td>359.5707166853333</td><td>90.9607293136043</td><td>-27.107192384166666</td><td>179.4927</td><td>0.992</td><td>200.96343038763135</td><td>1</td><td>45</td><td>1</td><td>1</td><td>53559.0</td><td>53559.0</td></tr>\n",
       "<tr><td>2355+042</td><td>359.620195592</td><td>0.3099386597295138</td><td>4.506898816472222</td><td>0.6599</td><td>0.278</td><td>0.6668882936128409</td><td>51</td><td>90</td><td>1</td><td>1</td><td>53571.0</td><td>53571.0</td></tr>\n",
       "<tr><td>2356+196</td><td>359.692021374125</td><td>0.11930573810772521</td><td>19.922306147972222</td><td>0.2512</td><td>0.03</td><td>0.2512329123268422</td><td>177</td><td>247</td><td>3</td><td>3</td><td>50084.0</td><td>54481.0</td></tr>\n",
       "<tr><td>2356+390</td><td>359.74939656979166</td><td>0.18444153752097137</td><td>39.37452936013889</td><td>0.3094</td><td>-0.269</td><td>0.31517627986302044</td><td>72</td><td>90</td><td>1</td><td>1</td><td>50241.0</td><td>50241.0</td></tr>\n",
       "<tr><td>2356+385</td><td>359.88825329837505</td><td>0.008723059781445447</td><td>38.845088406833334</td><td>0.0121</td><td>-0.01</td><td>0.012100654508953765</td><td>10664</td><td>12358</td><td>806</td><td>827</td><td>49518.0</td><td>54906.0</td></tr>\n",
       "<tr><td>2357-318</td><td>359.8978813969583</td><td>0.06897435187689879</td><td>-30.43782659558333</td><td>0.1803</td><td>-0.003</td><td>0.18030013909442277</td><td>257</td><td>292</td><td>9</td><td>9</td><td>52408.0</td><td>54871.0</td></tr>\n",
       "</table>"
      ],
      "text/plain": [
       "<Table length=3581>\n",
       "ivs_name          ra                ra_err        ... beg_date end_date\n",
       "                 deg                 mas          ...   MJD      MJD   \n",
       "  str8         float64             float64        ... float64  float64 \n",
       "-------- ------------------- -------------------- ... -------- --------\n",
       "2357-326 0.08499973895833332  0.30415965840404374 ...  52305.0  52305.0\n",
       "2358+406 0.22117315741666665   1.1968093703244034 ...  50241.0  50241.0\n",
       "2358-161      0.272203193125   0.3136874160930786 ...  50631.0  50631.0\n",
       "2358+605 0.27958162604166664   1.5751078182118552 ...  52305.0  52305.0\n",
       "2358+189  0.2859231842916667  0.03342223342442587 ...  50084.0  54906.0\n",
       "2359-221  0.5499271010833333   11.134037093682814 ...  54817.0  54817.0\n",
       "0000-199      0.816455943125   1.6439998556278328 ...  54087.0  54087.0\n",
       "0000-197  0.8278125884583334   0.3284152123803375 ...  50631.0  50687.0\n",
       "0000+212      0.830625050125  0.32342271422786095 ...  50084.0  50155.0\n",
       "     ...                 ...                  ... ...      ...      ...\n",
       "2354-021  359.35474145041667   0.1193996972543565 ...  50575.0  50575.0\n",
       "2354-117  359.37998985112495  0.07775717334332541 ...  50575.0  50575.0\n",
       "2355-534  359.47194199279164  0.06896435192794996 ...  47164.0  54705.0\n",
       "2355-106   359.5453433404583  0.01794171169526638 ...  47393.0  54892.0\n",
       "2355-291   359.5707166853333     90.9607293136043 ...  53559.0  53559.0\n",
       "2355+042       359.620195592   0.3099386597295138 ...  53571.0  53571.0\n",
       "2356+196    359.692021374125  0.11930573810772521 ...  50084.0  54481.0\n",
       "2356+390  359.74939656979166  0.18444153752097137 ...  50241.0  50241.0\n",
       "2356+385  359.88825329837505 0.008723059781445447 ...  49518.0  54906.0\n",
       "2357-318   359.8978813969583  0.06897435187689879 ...  52408.0  54871.0"
      ]
     },
     "execution_count": 2,
     "metadata": {},
     "output_type": "execute_result"
    }
   ],
   "source": [
    "icrf2ga09"
   ]
  },
  {
   "cell_type": "code",
   "execution_count": 3,
   "metadata": {},
   "outputs": [],
   "source": [
    "import matplotlib.pyplot as plt\n",
    "%matplotlib inline"
   ]
  },
  {
   "cell_type": "code",
   "execution_count": 4,
   "metadata": {},
   "outputs": [
    {
     "data": {
      "text/html": [
       "<i>Table length=3414</i>\n",
       "<table id=\"table140443029114160\" class=\"table-striped table-bordered table-condensed\">\n",
       "<thead><tr><th>icrf_name</th><th>ivs_name</th><th>iers_name</th><th>ra</th><th>dec</th><th>type</th><th>ra_err</th><th>dec_err</th><th>ra_dec_corr</th><th>pos_err</th><th>mean_obs</th><th>beg_obs</th><th>end_obs</th><th>nb_sess</th><th>nb_del</th></tr></thead>\n",
       "<thead><tr><th></th><th></th><th></th><th>deg</th><th>deg</th><th></th><th>mas</th><th>mas</th><th></th><th>mas</th><th></th><th></th><th></th><th></th><th></th></tr></thead>\n",
       "<thead><tr><th>str16</th><th>str8</th><th>str8</th><th>float64</th><th>float64</th><th>str1</th><th>float64</th><th>float64</th><th>float64</th><th>float64</th><th>float64</th><th>float64</th><th>float64</th><th>int64</th><th>int64</th></tr></thead>\n",
       "<tr><td>J000020.3-322101</td><td>2357-326</td><td>2357-326</td><td>0.08499978154166665</td><td>-32.35034264325</td><td>V</td><td>0.4228606361249806</td><td>0.9246</td><td>-0.004</td><td>0.9246019563265486</td><td>52306.7</td><td>52306.7</td><td>52306.7</td><td>1</td><td>40</td></tr>\n",
       "<tr><td>J000053.0+405401</td><td>2358+406</td><td>2358+406</td><td>0.2211731990833333</td><td>40.90049807775</td><td>V</td><td>1.773332262979606</td><td>2.0936</td><td>-0.164</td><td>2.1522926501977038</td><td>50242.8</td><td>50242.8</td><td>50242.8</td><td>1</td><td>22</td></tr>\n",
       "<tr><td>J000105.3-155107</td><td>2358-161</td><td>2358-161</td><td>0.27220320083333327</td><td>-15.851965569361111</td><td>V</td><td>0.4592928857503561</td><td>0.8910999999999999</td><td>-0.749</td><td>0.9620600872877471</td><td>50632.3</td><td>50632.3</td><td>50632.3</td><td>1</td><td>58</td></tr>\n",
       "<tr><td>J000107.0+605122</td><td>2358+605</td><td>2358+605</td><td>0.27958165691666664</td><td>60.85633416630556</td><td>V</td><td>2.3293508596752726</td><td>3.5917999999999997</td><td>-0.102</td><td>3.6051651029612515</td><td>52306.7</td><td>52306.7</td><td>52306.7</td><td>1</td><td>11</td></tr>\n",
       "<tr><td>J000108.6+191433</td><td>2358+189</td><td>2358+189</td><td>0.28592319541666666</td><td>19.242722705277778</td><td>N</td><td>0.06939362024552428</td><td>0.0984</td><td>0.08</td><td>0.09870723270272877</td><td>53306.0</td><td>50085.5</td><td>54907.7</td><td>21</td><td>716</td></tr>\n",
       "<tr><td>J000211.9-215309</td><td>2359-221</td><td>2359-221</td><td>0.5499276015</td><td>-21.88606554838889</td><td>N</td><td>16.062415294281355</td><td>38.6714</td><td>0.971</td><td>41.72301021726925</td><td>54818.7</td><td>54818.7</td><td>54818.7</td><td>1</td><td>3</td></tr>\n",
       "<tr><td>J000315.9-194150</td><td>0000-199</td><td>0000-199</td><td>0.8164555134166667</td><td>-19.697332749361113</td><td>V</td><td>4.6366314167931675</td><td>13.643499999999998</td><td>-0.943</td><td>14.33480339351269</td><td>54088.1</td><td>54088.1</td><td>54088.1</td><td>1</td><td>11</td></tr>\n",
       "<tr><td>J000318.6-192722</td><td>0000-197</td><td>0000-197</td><td>0.8278126013333333</td><td>-19.456209681833332</td><td>V</td><td>0.4859687733303084</td><td>0.9445999999999999</td><td>-0.224</td><td>0.9528939533621429</td><td>50650.0</td><td>50632.3</td><td>50688.3</td><td>2</td><td>76</td></tr>\n",
       "<tr><td>J000319.3+212944</td><td>0000+212</td><td>0000+212</td><td>0.83062514625</td><td>21.49569653825</td><td>V</td><td>0.5960896489006478</td><td>1.2524999999999997</td><td>-0.474</td><td>1.2901253012295735</td><td>50123.1</td><td>50085.5</td><td>50156.3</td><td>2</td><td>66</td></tr>\n",
       "<tr><td>...</td><td>...</td><td>...</td><td>...</td><td>...</td><td>...</td><td>...</td><td>...</td><td>...</td><td>...</td><td>...</td><td>...</td><td>...</td><td>...</td><td>...</td></tr>\n",
       "<tr><td>J235723.8-245103</td><td>2354-251</td><td>2354-251</td><td>359.3493790558749</td><td>-24.850878661972224</td><td>V</td><td>1.9682967903650053</td><td>4.7261999999999995</td><td>0.607</td><td>4.891523717551892</td><td>53561.9</td><td>53561.9</td><td>53561.9</td><td>1</td><td>26</td></tr>\n",
       "<tr><td>J235725.1-015215</td><td>2354-021</td><td>2354-021</td><td>359.35474146795826</td><td>-1.8709748105277777</td><td>V</td><td>0.16521187586196326</td><td>0.36089999999999994</td><td>-0.051</td><td>0.3610243036905593</td><td>50576.2</td><td>50576.2</td><td>50576.2</td><td>1</td><td>89</td></tr>\n",
       "<tr><td>J235731.1-112539</td><td>2354-117</td><td>2354-117</td><td>359.37998986320827</td><td>-11.427549012388889</td><td>V</td><td>0.09262663422235916</td><td>0.20699999999999996</td><td>-0.044</td><td>0.207050129872898</td><td>50576.2</td><td>50576.2</td><td>50576.2</td><td>1</td><td>86</td></tr>\n",
       "<tr><td>J235753.2-531113</td><td>2355-534</td><td>2355-534</td><td>359.4719420336666</td><td>-53.187135932277776</td><td>D</td><td>0.1326636247659289</td><td>0.1888</td><td>0.27</td><td>0.1946752600454769</td><td>51084.2</td><td>47626.5</td><td>54706.7</td><td>40</td><td>181</td></tr>\n",
       "<tr><td>J235810.8-102008</td><td>2355-106</td><td>2355-106</td><td>359.5453433650416</td><td>-10.335725366972223</td><td>D</td><td>0.048106517254133285</td><td>0.0545</td><td>-0.155</td><td>0.056253726715457225</td><td>52378.0</td><td>47394.1</td><td>54893.7</td><td>196</td><td>2707</td></tr>\n",
       "<tr><td>J235828.8+043024</td><td>2355+042</td><td>2355+042</td><td>359.6201955935416</td><td>4.50689869</td><td>V</td><td>0.5933595699681683</td><td>1.3163</td><td>0.361</td><td>1.337164708016073</td><td>53573.0</td><td>53573.0</td><td>53573.0</td><td>1</td><td>51</td></tr>\n",
       "<tr><td>J235846.0+195520</td><td>2356+196</td><td>2356+196</td><td>359.6920213677916</td><td>19.922306209916666</td><td>N</td><td>0.24439343269464758</td><td>0.5664999999999999</td><td>-0.26</td><td>0.5707822386334203</td><td>50297.0</td><td>50085.5</td><td>54482.7</td><td>3</td><td>177</td></tr>\n",
       "<tr><td>J235859.8+392228</td><td>2356+390</td><td>2356+390</td><td>359.74939659699993</td><td>39.37452936513889</td><td>V</td><td>0.27596659216375163</td><td>0.45909999999999995</td><td>-0.265</td><td>0.4676344357932867</td><td>50242.8</td><td>50242.8</td><td>50242.8</td><td>1</td><td>72</td></tr>\n",
       "<tr><td>J235933.1+385042</td><td>2356+385</td><td>2356+385</td><td>359.8882533224583</td><td>38.84508841508334</td><td>D</td><td>0.0419407829621757</td><td>0.0436</td><td>-0.048</td><td>0.04407797153519445</td><td>53220.2</td><td>49519.8</td><td>54907.7</td><td>813</td><td>10501</td></tr>\n",
       "<tr><td>J235935.4-313343</td><td>2357-318</td><td>2357-318</td><td>359.89788142887494</td><td>-31.562173403055557</td><td>D</td><td>0.11004518704740396</td><td>0.26599999999999996</td><td>0.051</td><td>0.2660713766027256</td><td>53392.9</td><td>52409.7</td><td>54872.7</td><td>9</td><td>257</td></tr>\n",
       "</table>"
      ],
      "text/plain": [
       "<Table length=3414>\n",
       "   icrf_name     ivs_name iers_name ... end_obs nb_sess nb_del\n",
       "                                    ...                       \n",
       "     str16         str8      str8   ... float64  int64  int64 \n",
       "---------------- -------- --------- ... ------- ------- ------\n",
       "J000020.3-322101 2357-326  2357-326 ... 52306.7       1     40\n",
       "J000053.0+405401 2358+406  2358+406 ... 50242.8       1     22\n",
       "J000105.3-155107 2358-161  2358-161 ... 50632.3       1     58\n",
       "J000107.0+605122 2358+605  2358+605 ... 52306.7       1     11\n",
       "J000108.6+191433 2358+189  2358+189 ... 54907.7      21    716\n",
       "J000211.9-215309 2359-221  2359-221 ... 54818.7       1      3\n",
       "J000315.9-194150 0000-199  0000-199 ... 54088.1       1     11\n",
       "J000318.6-192722 0000-197  0000-197 ... 50688.3       2     76\n",
       "J000319.3+212944 0000+212  0000+212 ... 50156.3       2     66\n",
       "             ...      ...       ... ...     ...     ...    ...\n",
       "J235723.8-245103 2354-251  2354-251 ... 53561.9       1     26\n",
       "J235725.1-015215 2354-021  2354-021 ... 50576.2       1     89\n",
       "J235731.1-112539 2354-117  2354-117 ... 50576.2       1     86\n",
       "J235753.2-531113 2355-534  2355-534 ... 54706.7      40    181\n",
       "J235810.8-102008 2355-106  2355-106 ... 54893.7     196   2707\n",
       "J235828.8+043024 2355+042  2355+042 ... 53573.0       1     51\n",
       "J235846.0+195520 2356+196  2356+196 ... 54482.7       3    177\n",
       "J235859.8+392228 2356+390  2356+390 ... 50242.8       1     72\n",
       "J235933.1+385042 2356+385  2356+385 ... 54907.7     813  10501\n",
       "J235935.4-313343 2357-318  2357-318 ... 54872.7       9    257"
      ]
     },
     "execution_count": 4,
     "metadata": {},
     "output_type": "execute_result"
    }
   ],
   "source": [
    "from my_progs.catalog.read_icrf import read_icrf2\n",
    "icrf2 = read_icrf2()\n",
    "icrf2"
   ]
  },
  {
   "cell_type": "code",
   "execution_count": 6,
   "metadata": {},
   "outputs": [
    {
     "data": {
      "text/html": [
       "<i>Table masked=True length=2820</i>\n",
       "<table id=\"table140443028037304\" class=\"table-striped table-bordered table-condensed\">\n",
       "<thead><tr><th>iers_name</th><th>solution_id</th><th>designation</th><th>source_id</th><th>random_index</th><th>ref_epoch</th><th>pos_err</th><th>ra</th><th>ra_err</th><th>dec</th><th>dec_err</th><th>parallax</th><th>parallax_err</th><th>parallax_over_error</th><th>pmra</th><th>pmra_err</th><th>pmdec</th><th>pmdec_err</th><th>ra_dec_corr</th><th>ra_parallax_corr</th><th>ra_pmra_corr</th><th>ra_pmdec_corr</th><th>dec_parallax_corr</th><th>dec_pmra_corr</th><th>dec_pmdec_corr</th><th>parallax_pmra_corr</th><th>parallax_pmdec_corr</th><th>pmra_pmdec_corr</th><th>astrometric_n_obs_al</th><th>astrometric_n_obs_ac</th><th>astrometric_n_good_obs_al</th><th>astrometric_n_bad_obs_al</th><th>astrometric_gof_al</th><th>astrometric_chi2_al</th><th>astrometric_excess_noise</th><th>astrometric_excess_noise_sig</th><th>astrometric_params_solved</th><th>astrometric_primary_flag</th><th>astrometric_weight_al</th><th>astrometric_pseudo_colour</th><th>astrometric_pseudo_colour_error</th><th>mean_varpi_factor_al</th><th>astrometric_matched_observations</th><th>visibility_periods_used</th><th>astrometric_sigma5d_max</th><th>frame_rotator_object_type</th><th>matched_observations</th><th>duplicated_source</th><th>phot_g_n_obs</th><th>phot_g_mean_flux</th><th>phot_g_mean_flux_error</th><th>phot_g_mean_flux_over_error</th><th>phot_g_mean_mag</th><th>phot_bp_n_obs</th><th>phot_bp_mean_flux</th><th>phot_bp_mean_flux_error</th><th>phot_bp_mean_flux_over_error</th><th>phot_bp_mean_mag</th><th>phot_rp_n_obs</th><th>phot_rp_mean_flux</th><th>phot_rp_mean_flux_error</th><th>phot_rp_mean_flux_over_error</th><th>phot_rp_mean_mag</th><th>phot_bp_rp_excess_factor</th><th>phot_proc_mode</th><th>bp_rp</th><th>bp_g</th><th>g_rp</th><th>radial_velocity</th><th>radial_velocity_error</th><th>rv_nb_transits</th><th>rv_template_teff</th><th>rv_template_logg</th><th>rv_template_fe_h</th><th>phot_variable_flag</th><th>l</th><th>b</th><th>ecl_lon</th><th>ecl_lat</th><th>priam_flags</th><th>teff_val</th><th>teff_percentile_lower</th><th>teff_percentile_upper</th><th>a_g_val</th><th>a_g_percentile_lower</th><th>a_g_percentile_upper</th><th>e_bp_min_rp_val</th><th>e_bp_min_rp_percentile_lower</th><th>e_bp_min_rp_percentile_upper</th><th>flame_flags</th><th>radius_val</th><th>radius_percentile_lower</th><th>radius_percentile_upper</th><th>lum_val</th><th>lum_percentile_lower</th><th>lum_percentile_upper</th><th>datalink_url</th><th>epoch_photometry_url</th></tr></thead>\n",
       "<thead><tr><th></th><th></th><th></th><th></th><th></th><th>yr</th><th>mas</th><th>deg</th><th>mas</th><th>deg</th><th>mas</th><th>mas</th><th>mas</th><th></th><th>mas / yr</th><th>mas / yr</th><th>mas / yr</th><th>mas / yr</th><th></th><th></th><th></th><th></th><th></th><th></th><th></th><th></th><th></th><th></th><th></th><th></th><th></th><th></th><th></th><th></th><th>mas</th><th></th><th></th><th></th><th>1 / mas2</th><th>1 / um</th><th>1 / um</th><th></th><th></th><th></th><th>mas</th><th></th><th></th><th></th><th></th><th>&apos;electron&apos;.s**-1</th><th>&apos;electron&apos;.s**-1</th><th></th><th>mag</th><th></th><th>&apos;electron&apos;.s**-1</th><th>&apos;electron&apos;.s**-1</th><th></th><th>mag</th><th></th><th>&apos;electron&apos;.s**-1</th><th>&apos;electron&apos;.s**-1</th><th></th><th>mag</th><th></th><th></th><th>mag</th><th>mag</th><th>mag</th><th>km / s</th><th>km / s</th><th></th><th>K</th><th>log(cm.s**-2)</th><th>dex</th><th></th><th>deg</th><th>deg</th><th>deg</th><th>deg</th><th></th><th>K</th><th>K</th><th>K</th><th>mag</th><th>mag</th><th>mag</th><th>mag</th><th>mag</th><th>mag</th><th></th><th>solRad</th><th>solRad</th><th>solRad</th><th>solLum</th><th>solLum</th><th>solLum</th><th></th><th></th></tr></thead>\n",
       "<thead><tr><th>bytes8</th><th>int64</th><th>bytes28</th><th>int64</th><th>int64</th><th>float64</th><th>float64</th><th>float64</th><th>float64</th><th>float64</th><th>float64</th><th>float64</th><th>float64</th><th>float32</th><th>float64</th><th>float64</th><th>float64</th><th>float64</th><th>float32</th><th>float32</th><th>float32</th><th>float32</th><th>float32</th><th>float32</th><th>float32</th><th>float32</th><th>float32</th><th>float32</th><th>int32</th><th>int32</th><th>int32</th><th>int32</th><th>float32</th><th>float32</th><th>float64</th><th>float64</th><th>int16</th><th>bool</th><th>float32</th><th>float64</th><th>float64</th><th>float32</th><th>int16</th><th>int16</th><th>float32</th><th>int32</th><th>int16</th><th>bool</th><th>int32</th><th>float64</th><th>float64</th><th>float32</th><th>float32</th><th>int32</th><th>float64</th><th>float64</th><th>float32</th><th>float32</th><th>int32</th><th>float64</th><th>float64</th><th>float32</th><th>float32</th><th>float32</th><th>int16</th><th>float32</th><th>float32</th><th>float32</th><th>float64</th><th>float64</th><th>int32</th><th>float32</th><th>float32</th><th>float32</th><th>bytes13</th><th>float64</th><th>float64</th><th>float64</th><th>float64</th><th>int64</th><th>float32</th><th>float32</th><th>float32</th><th>float32</th><th>float32</th><th>float32</th><th>float32</th><th>float32</th><th>float32</th><th>int64</th><th>float32</th><th>float32</th><th>float32</th><th>float32</th><th>float32</th><th>float32</th><th>bytes77</th><th>bytes99</th></tr></thead>\n",
       "<tr><td>2357-326</td><td>1635721458409799680</td><td>Gaia DR2 2314315845817748992</td><td>2314315845817748992</td><td>1292070184</td><td>2015.5</td><td>0.1459297058023392</td><td>0.08499783888929553</td><td>0.1445922512977904</td><td>-32.35034287416735</td><td>0.12064481144837098</td><td>0.2031436388244911</td><td>0.18931038055012414</td><td>1.0730718</td><td>-0.036379976508171166</td><td>0.2996915751383218</td><td>0.07511508120986538</td><td>0.2477794651372806</td><td>-0.092771634</td><td>0.3238576</td><td>0.26209354</td><td>-0.09424034</td><td>-0.37053558</td><td>-0.016644478</td><td>0.23910828</td><td>-0.04301203</td><td>-0.20278661</td><td>0.06913886</td><td>168</td><td>0</td><td>167</td><td>1</td><td>-1.4827913</td><td>136.15411</td><td>0.0</td><td>0.0</td><td>31</td><td>True</td><td>0.8584791</td><td>1.6239074823663633</td><td>0.03147893539911711</td><td>-0.0057685114</td><td>19</td><td>11</td><td>0.26931992</td><td>2</td><td>19</td><td>False</td><td>167</td><td>1111.5029082493488</td><td>5.505959433722025</td><td>201.8727</td><td>18.07359</td><td>18</td><td>691.2425840115568</td><td>18.837616814203546</td><td>36.6948</td><td>18.252312</td><td>17</td><td>687.1866713668459</td><td>10.279402822682268</td><td>66.85084</td><td>17.669233</td><td>1.240149</td><td>0</td><td>0.5830784</td><td>0.17872238</td><td>0.404356</td><td>nan</td><td>nan</td><td>0</td><td>nan</td><td>nan</td><td>nan</td><td>NOT_AVAILABLE</td><td>4.638493966500404</td><td>-77.752243345347</td><td>345.93180563948556</td><td>-29.435177124347142</td><td>--</td><td>nan</td><td>nan</td><td>nan</td><td>nan</td><td>nan</td><td>nan</td><td>nan</td><td>nan</td><td>nan</td><td>--</td><td>nan</td><td>nan</td><td>nan</td><td>nan</td><td>nan</td><td>nan</td><td>http://geadata.esac.esa.int/data-server/datalink/links?ID=2314315845817748992</td><td></td></tr>\n",
       "<tr><td>2358-161</td><td>1635721458409799680</td><td>Gaia DR2 2415835442333250688</td><td>2415835442333250688</td><td>1673237819</td><td>2015.5</td><td>0.20605283885027792</td><td>0.2722030739253465</td><td>0.20602077902948293</td><td>-15.851965536926414</td><td>0.1283223830435575</td><td>-0.055558146475727405</td><td>0.24401150977786393</td><td>-0.22768658</td><td>-0.2358559729612182</td><td>0.3893762964882165</td><td>-0.6856420405574464</td><td>0.29947031486611997</td><td>0.02216497</td><td>0.3860851</td><td>0.3694782</td><td>-0.18911926</td><td>-0.25913212</td><td>0.07878281</td><td>0.59325767</td><td>-0.21182266</td><td>-0.5026838</td><td>0.31012946</td><td>223</td><td>0</td><td>222</td><td>1</td><td>0.9928437</td><td>237.6387</td><td>0.0</td><td>0.0</td><td>31</td><td>True</td><td>0.65645736</td><td>1.741118952333988</td><td>0.03389115643518506</td><td>-0.03456165</td><td>25</td><td>12</td><td>0.37248677</td><td>2</td><td>30</td><td>False</td><td>265</td><td>930.6334756588977</td><td>1.9114320816216113</td><td>486.8776</td><td>18.266418</td><td>28</td><td>614.7323809256211</td><td>9.989614660711224</td><td>61.537148</td><td>18.379673</td><td>29</td><td>560.2080143042034</td><td>13.681215663971876</td><td>40.94724</td><td>17.891047</td><td>1.2625169</td><td>0</td><td>0.48862648</td><td>0.11325455</td><td>0.37537193</td><td>nan</td><td>nan</td><td>0</td><td>nan</td><td>nan</td><td>nan</td><td>NOT_AVAILABLE</td><td>74.35896819846901</td><td>-73.76405093364092</td><td>353.80245067157335</td><td>-14.621404233330052</td><td>--</td><td>nan</td><td>nan</td><td>nan</td><td>nan</td><td>nan</td><td>nan</td><td>nan</td><td>nan</td><td>nan</td><td>--</td><td>nan</td><td>nan</td><td>nan</td><td>nan</td><td>nan</td><td>nan</td><td>http://geadata.esac.esa.int/data-server/datalink/links?ID=2415835442333250688</td><td></td></tr>\n",
       "<tr><td>2359-221</td><td>1635721458409799680</td><td>Gaia DR2 2340552087337605248</td><td>2340552087337605248</td><td>1048626345</td><td>2015.5</td><td>0.4831047772372843</td><td>0.5499220984388309</td><td>0.4830680409810676</td><td>-21.8860734515098</td><td>0.3214542550971185</td><td>-1.2254791228136077</td><td>0.5329940012064253</td><td>-2.2992363</td><td>-0.034637706078405564</td><td>0.8855496468586489</td><td>-0.05961199228747711</td><td>0.7657056040084157</td><td>-0.013836138</td><td>0.39026165</td><td>0.44715494</td><td>-0.10128507</td><td>-0.081793234</td><td>0.007855844</td><td>0.5445474</td><td>-0.060944</td><td>-0.17351532</td><td>0.21098249</td><td>233</td><td>0</td><td>232</td><td>1</td><td>7.6950636</td><td>432.57947</td><td>2.0958398404758505</td><td>8.22676539420479</td><td>31</td><td>True</td><td>0.09262963</td><td>1.7601500472568543</td><td>0.09787073415672491</td><td>-0.07602221</td><td>26</td><td>12</td><td>0.83963233</td><td>2</td><td>32</td><td>False</td><td>284</td><td>373.3577992876294</td><td>4.5322302421105976</td><td>82.37838</td><td>19.258053</td><td>29</td><td>238.44730791099317</td><td>10.11348982982551</td><td>23.577154</td><td>19.407907</td><td>27</td><td>577.9740953393006</td><td>14.081251064609546</td><td>41.04565</td><td>17.85715</td><td>2.1866996</td><td>0</td><td>1.5507584</td><td>0.14985466</td><td>1.4009037</td><td>nan</td><td>nan</td><td>0</td><td>nan</td><td>nan</td><td>nan</td><td>NOT_AVAILABLE</td><td>55.35651775281355</td><td>-77.64249693953252</td><td>351.4135481459873</td><td>-20.21509423428469</td><td>--</td><td>nan</td><td>nan</td><td>nan</td><td>nan</td><td>nan</td><td>nan</td><td>nan</td><td>nan</td><td>nan</td><td>--</td><td>nan</td><td>nan</td><td>nan</td><td>nan</td><td>nan</td><td>nan</td><td>http://geadata.esac.esa.int/data-server/datalink/links?ID=2340552087337605248</td><td></td></tr>\n",
       "<tr><td>0000-199</td><td>1635721458409799680</td><td>Gaia DR2 2365814049884978048</td><td>2365814049884978048</td><td>90841091</td><td>2015.5</td><td>0.31218319151974</td><td>0.8164555380378795</td><td>0.31214484752059934</td><td>-19.697333393384483</td><td>0.20132065134575663</td><td>-0.24976210176238237</td><td>0.36241695927078477</td><td>-0.6891568</td><td>0.6167410883691041</td><td>0.5467370543754372</td><td>-0.20622857222487195</td><td>0.4638258235243829</td><td>0.01857697</td><td>0.46789265</td><td>0.3675997</td><td>-0.17307134</td><td>-0.20771366</td><td>0.066310346</td><td>0.5528602</td><td>-0.10075016</td><td>-0.40074503</td><td>0.2787808</td><td>220</td><td>0</td><td>219</td><td>1</td><td>-0.1577437</td><td>210.09392</td><td>0.0</td><td>0.0</td><td>31</td><td>True</td><td>0.25746548</td><td>1.655664736203407</td><td>0.06933708317018163</td><td>-0.003991508</td><td>25</td><td>12</td><td>0.5248924</td><td>2</td><td>31</td><td>False</td><td>269</td><td>448.79459704283596</td><td>1.1956135049754275</td><td>375.3676</td><td>19.058247</td><td>29</td><td>259.8801611975163</td><td>8.44429659368493</td><td>30.775822</td><td>19.314455</td><td>27</td><td>280.102062961894</td><td>7.343598948171751</td><td>38.14234</td><td>18.64363</td><td>1.2031834</td><td>0</td><td>0.67082596</td><td>0.25620842</td><td>0.41461754</td><td>nan</td><td>nan</td><td>0</td><td>nan</td><td>nan</td><td>nan</td><td>NOT_AVAILABLE</td><td>64.32688458014718</td><td>-76.69532360718172</td><td>352.6300944012296</td><td>-18.335169801511277</td><td>--</td><td>nan</td><td>nan</td><td>nan</td><td>nan</td><td>nan</td><td>nan</td><td>nan</td><td>nan</td><td>nan</td><td>--</td><td>nan</td><td>nan</td><td>nan</td><td>nan</td><td>nan</td><td>nan</td><td>http://geadata.esac.esa.int/data-server/datalink/links?ID=2365814049884978048</td><td></td></tr>\n",
       "<tr><td>0000-197</td><td>1635721458409799680</td><td>Gaia DR2 2365855384650325376</td><td>2365855384650325376</td><td>509061852</td><td>2015.5</td><td>0.24241216451703895</td><td>0.8278123681512258</td><td>0.2387757610163772</td><td>-19.456209949035525</td><td>0.1922200644996743</td><td>-0.45544305828221626</td><td>0.3185109654739551</td><td>-1.4299133</td><td>0.6116734571782345</td><td>0.5735415853774198</td><td>0.37085954108422414</td><td>0.39878223344506625</td><td>0.13461179</td><td>0.052950118</td><td>0.35212186</td><td>-0.022328816</td><td>-0.097155325</td><td>-0.019389542</td><td>0.2804625</td><td>-0.1926077</td><td>-0.35069835</td><td>0.24758662</td><td>212</td><td>0</td><td>210</td><td>2</td><td>3.6289706</td><td>286.77567</td><td>0.7128749498725855</td><td>1.3707877438197045</td><td>31</td><td>True</td><td>0.24972558</td><td>1.631427746993492</td><td>0.05576766364622798</td><td>0.009695854</td><td>24</td><td>11</td><td>0.5272041</td><td>2</td><td>28</td><td>False</td><td>247</td><td>396.0715179981695</td><td>9.328188901543987</td><td>42.459637</td><td>19.193932</td><td>27</td><td>193.44305535843802</td><td>15.623449084861138</td><td>12.381584</td><td>19.635006</td><td>26</td><td>312.3915259767402</td><td>22.854075341760442</td><td>13.668963</td><td>18.525171</td><td>1.2771294</td><td>0</td><td>1.1098347</td><td>0.44107437</td><td>0.6687603</td><td>nan</td><td>nan</td><td>0</td><td>nan</td><td>nan</td><td>nan</td><td>NOT_AVAILABLE</td><td>65.19122832808303</td><td>-76.56006329236803</td><td>352.7466295180212</td><td>-18.12068590389237</td><td>--</td><td>nan</td><td>nan</td><td>nan</td><td>nan</td><td>nan</td><td>nan</td><td>nan</td><td>nan</td><td>nan</td><td>--</td><td>nan</td><td>nan</td><td>nan</td><td>nan</td><td>nan</td><td>nan</td><td>http://geadata.esac.esa.int/data-server/datalink/links?ID=2365855384650325376</td><td></td></tr>\n",
       "<tr><td>0001-120</td><td>1635721458409799680</td><td>Gaia DR2 2421598528234887680</td><td>2421598528234887680</td><td>1585766835</td><td>2015.5</td><td>0.33998919727933147</td><td>1.0204794846922574</td><td>0.3102386470908995</td><td>-11.816218379326092</td><td>0.29214212886423696</td><td>0.06584825341243254</td><td>0.3640494710474267</td><td>0.18087721</td><td>0.049237658462576495</td><td>0.7606129274645607</td><td>0.44519648557145636</td><td>0.7265389349874076</td><td>0.26688337</td><td>0.16208343</td><td>0.33467895</td><td>0.089694664</td><td>-0.13309994</td><td>0.2532729</td><td>0.7076963</td><td>-0.11914465</td><td>-0.22260411</td><td>0.5138607</td><td>183</td><td>0</td><td>182</td><td>1</td><td>-0.16202897</td><td>173.31071</td><td>0.0</td><td>0.0</td><td>31</td><td>True</td><td>0.23672503</td><td>1.6454941911148744</td><td>0.06367261570999286</td><td>-0.025562344</td><td>21</td><td>11</td><td>0.8264622</td><td>2</td><td>29</td><td>False</td><td>235</td><td>351.9187742546047</td><td>6.299087629962643</td><td>55.868214</td><td>19.32226</td><td>25</td><td>188.8947142816054</td><td>18.193768445074856</td><td>10.382385</td><td>19.66084</td><td>25</td><td>287.14538123396096</td><td>19.478016973427057</td><td>14.742023</td><td>18.616665</td><td>1.3526988</td><td>0</td><td>1.0441742</td><td>0.33857918</td><td>0.705595</td><td>nan</td><td>nan</td><td>0</td><td>nan</td><td>nan</td><td>nan</td><td>NOT_AVAILABLE</td><td>84.66540810667553</td><td>-71.07983586648871</td><td>356.17331919967717</td><td>-11.233624024853372</td><td>--</td><td>nan</td><td>nan</td><td>nan</td><td>nan</td><td>nan</td><td>nan</td><td>nan</td><td>nan</td><td>nan</td><td>--</td><td>nan</td><td>nan</td><td>nan</td><td>nan</td><td>nan</td><td>nan</td><td>http://geadata.esac.esa.int/data-server/datalink/links?ID=2421598528234887680</td><td></td></tr>\n",
       "<tr><td>0001+459</td><td>1635721458409799680</td><td>Gaia DR2 387054966590038656</td><td>387054966590038656</td><td>180336136</td><td>2015.5</td><td>0.777985787941841</td><td>1.0671982239853723</td><td>0.7718284266351787</td><td>46.25499167308568</td><td>0.6969576827283192</td><td>-0.029368229696100832</td><td>1.0984495193905532</td><td>-0.026736075</td><td>0.9944652987116404</td><td>1.2381622163997819</td><td>0.4579145221304079</td><td>0.9951609005577559</td><td>-0.06277916</td><td>0.42371804</td><td>-0.60506684</td><td>0.19084497</td><td>0.07386451</td><td>0.025139727</td><td>-0.6068582</td><td>-0.4637956</td><td>0.30770168</td><td>-0.2570573</td><td>202</td><td>0</td><td>202</td><td>0</td><td>1.0094169</td><td>217.01146</td><td>0.0</td><td>0.0</td><td>31</td><td>True</td><td>0.032391287</td><td>1.2874645873230066</td><td>0.19991556430692878</td><td>0.025646308</td><td>23</td><td>11</td><td>1.3402352</td><td>2</td><td>23</td><td>False</td><td>201</td><td>119.92125242680824</td><td>1.4790380871316948</td><td>81.080574</td><td>20.491125</td><td>17</td><td>66.8803742172048</td><td>6.429019207535592</td><td>10.402889</td><td>20.788141</td><td>14</td><td>96.63387720167498</td><td>10.456000665613578</td><td>9.241954</td><td>19.799097</td><td>1.3635136</td><td>0</td><td>0.9890442</td><td>0.29701614</td><td>0.69202805</td><td>nan</td><td>nan</td><td>0</td><td>nan</td><td>nan</td><td>nan</td><td>NOT_AVAILABLE</td><td>114.48538399225754</td><td>-15.841728824790714</td><td>23.400992358973802</td><td>41.12382499730741</td><td>--</td><td>nan</td><td>nan</td><td>nan</td><td>nan</td><td>nan</td><td>nan</td><td>nan</td><td>nan</td><td>nan</td><td>--</td><td>nan</td><td>nan</td><td>nan</td><td>nan</td><td>nan</td><td>nan</td><td>http://geadata.esac.esa.int/data-server/datalink/links?ID=387054966590038656</td><td></td></tr>\n",
       "<tr><td>0002-478</td><td>1635721458409799680</td><td>Gaia DR2 4978016560925910400</td><td>4978016560925910400</td><td>1056645984</td><td>2015.5</td><td>0.4046925099699907</td><td>1.1485644787260738</td><td>0.32535001967377664</td><td>-47.60544549244506</td><td>0.38175267275937685</td><td>-0.394507921304075</td><td>0.5551341682993441</td><td>-0.7106533</td><td>0.10766725569112054</td><td>0.5623357858130931</td><td>-0.2990603581366252</td><td>0.6935629455335646</td><td>-0.2602696</td><td>0.38209838</td><td>-0.3261622</td><td>-0.043664124</td><td>-0.36382514</td><td>0.12289763</td><td>-0.07530141</td><td>-0.16826801</td><td>-0.2654429</td><td>-0.06584475</td><td>296</td><td>0</td><td>295</td><td>1</td><td>2.283113</td><td>347.77988</td><td>1.0437033199851626</td><td>0.993491965975624</td><td>31</td><td>True</td><td>0.0699058</td><td>1.6237826874981531</td><td>0.10071187078281756</td><td>-0.012068439</td><td>34</td><td>17</td><td>0.6234835</td><td>2</td><td>36</td><td>False</td><td>315</td><td>216.9306391984161</td><td>2.6071526889362633</td><td>83.205956</td><td>19.847563</td><td>31</td><td>138.36680034200938</td><td>5.768507041856548</td><td>23.986588</td><td>19.998808</td><td>28</td><td>163.88945023230468</td><td>8.242601388394569</td><td>19.883219</td><td>19.225542</td><td>1.3933313</td><td>0</td><td>0.77326584</td><td>0.15124512</td><td>0.6220207</td><td>nan</td><td>nan</td><td>0</td><td>nan</td><td>nan</td><td>nan</td><td>NOT_AVAILABLE</td><td>323.94678138068065</td><td>-67.56615593495154</td><td>337.3444729383686</td><td>-43.074941471282926</td><td>--</td><td>nan</td><td>nan</td><td>nan</td><td>nan</td><td>nan</td><td>nan</td><td>nan</td><td>nan</td><td>nan</td><td>--</td><td>nan</td><td>nan</td><td>nan</td><td>nan</td><td>nan</td><td>nan</td><td>http://geadata.esac.esa.int/data-server/datalink/links?ID=4978016560925910400</td><td></td></tr>\n",
       "<tr><td>0002+541</td><td>1635721458409799680</td><td>Gaia DR2 420305499589122944</td><td>420305499589122944</td><td>1565207793</td><td>2015.5</td><td>0.14545837311323823</td><td>1.2681808047501304</td><td>0.13120835916273907</td><td>54.47359019646749</td><td>0.13042564468464754</td><td>-0.14358682773108555</td><td>0.19574910597769088</td><td>-0.7335248</td><td>-0.03226026529765841</td><td>0.2462715837614524</td><td>-0.06292777713183365</td><td>0.23430898938890327</td><td>-0.23628916</td><td>0.25975955</td><td>-0.45651165</td><td>0.09144919</td><td>-0.2566045</td><td>0.0073146904</td><td>-0.41105396</td><td>-0.13174422</td><td>0.4187751</td><td>-0.12113201</td><td>379</td><td>0</td><td>373</td><td>6</td><td>3.1460633</td><td>459.3458</td><td>0.457101619192494</td><td>1.267081345270029</td><td>31</td><td>True</td><td>0.42795828</td><td>1.7000531738624192</td><td>0.03000285333928098</td><td>-0.013033427</td><td>43</td><td>17</td><td>0.2451055</td><td>2</td><td>46</td><td>False</td><td>393</td><td>723.7546501305698</td><td>4.439272004506835</td><td>163.03453</td><td>18.539387</td><td>39</td><td>449.43263750691665</td><td>12.044578253411332</td><td>37.314102</td><td>18.719727</td><td>43</td><td>519.0385111341151</td><td>10.935690888145416</td><td>47.4628</td><td>17.97392</td><td>1.3381208</td><td>0</td><td>0.74580574</td><td>0.18033981</td><td>0.5654659</td><td>nan</td><td>nan</td><td>0</td><td>nan</td><td>nan</td><td>nan</td><td>NOT_AVAILABLE</td><td>116.1643202629402</td><td>-7.787783714948276</td><td>30.009310607082472</td><td>47.86576436691425</td><td>--</td><td>nan</td><td>nan</td><td>nan</td><td>nan</td><td>nan</td><td>nan</td><td>nan</td><td>nan</td><td>nan</td><td>--</td><td>nan</td><td>nan</td><td>nan</td><td>nan</td><td>nan</td><td>nan</td><td>http://geadata.esac.esa.int/data-server/datalink/links?ID=420305499589122944</td><td></td></tr>\n",
       "<tr><td>...</td><td>...</td><td>...</td><td>...</td><td>...</td><td>...</td><td>...</td><td>...</td><td>...</td><td>...</td><td>...</td><td>...</td><td>...</td><td>...</td><td>...</td><td>...</td><td>...</td><td>...</td><td>...</td><td>...</td><td>...</td><td>...</td><td>...</td><td>...</td><td>...</td><td>...</td><td>...</td><td>...</td><td>...</td><td>...</td><td>...</td><td>...</td><td>...</td><td>...</td><td>...</td><td>...</td><td>...</td><td>...</td><td>...</td><td>...</td><td>...</td><td>...</td><td>...</td><td>...</td><td>...</td><td>...</td><td>...</td><td>...</td><td>...</td><td>...</td><td>...</td><td>...</td><td>...</td><td>...</td><td>...</td><td>...</td><td>...</td><td>...</td><td>...</td><td>...</td><td>...</td><td>...</td><td>...</td><td>...</td><td>...</td><td>...</td><td>...</td><td>...</td><td>...</td><td>...</td><td>...</td><td>...</td><td>...</td><td>...</td><td>...</td><td>...</td><td>...</td><td>...</td><td>...</td><td>...</td><td>...</td><td>...</td><td>...</td><td>...</td><td>...</td><td>...</td><td>...</td><td>...</td><td>...</td><td>...</td><td>...</td><td>...</td><td>...</td><td>...</td><td>...</td><td>...</td><td>...</td><td>...</td></tr>\n",
       "<tr><td>2355-534</td><td>1635721458409799680</td><td>Gaia DR2 6521373648123690752</td><td>6521373648123690752</td><td>748928690</td><td>2015.5</td><td>0.142284498229031</td><td>359.4719416213655</td><td>0.12014592035167172</td><td>-53.18713599970871</td><td>0.12934814562092342</td><td>-0.43224461610391285</td><td>0.23119595273831342</td><td>-1.8696029</td><td>0.04937268847244068</td><td>0.2390585622847201</td><td>0.15459976938193157</td><td>0.26938416963154255</td><td>-0.29074323</td><td>0.26899406</td><td>0.08389334</td><td>-0.10656354</td><td>-0.04506682</td><td>0.015091062</td><td>-0.0119688045</td><td>0.18137583</td><td>-0.47678226</td><td>-0.28519723</td><td>439</td><td>0</td><td>434</td><td>5</td><td>1.3051279</td><td>467.66965</td><td>0.25078886886435925</td><td>0.32034171654285176</td><td>31</td><td>True</td><td>0.34108132</td><td>1.6527520570466367</td><td>0.035130001975782935</td><td>-0.029266415</td><td>50</td><td>20</td><td>0.27219158</td><td>2</td><td>50</td><td>False</td><td>434</td><td>562.6087861531258</td><td>2.0111118118767424</td><td>279.75012</td><td>18.812849</td><td>45</td><td>355.890044050218</td><td>6.180178266026547</td><td>57.585724</td><td>18.973099</td><td>45</td><td>373.84793260495906</td><td>7.689300153929001</td><td>48.61924</td><td>18.330183</td><td>1.2970611</td><td>0</td><td>0.6429157</td><td>0.16024971</td><td>0.48266602</td><td>nan</td><td>nan</td><td>0</td><td>nan</td><td>nan</td><td>nan</td><td>NOT_AVAILABLE</td><td>320.1851167500718</td><td>-62.110542722722684</td><td>331.63321292496187</td><td>-47.082646927511334</td><td>--</td><td>nan</td><td>nan</td><td>nan</td><td>nan</td><td>nan</td><td>nan</td><td>nan</td><td>nan</td><td>nan</td><td>--</td><td>nan</td><td>nan</td><td>nan</td><td>nan</td><td>nan</td><td>nan</td><td>http://geadata.esac.esa.int/data-server/datalink/links?ID=6521373648123690752</td><td></td></tr>\n",
       "<tr><td>2355+490</td><td>1635721458409799680</td><td>Gaia DR2 1939912006057110784</td><td>1939912006057110784</td><td>1436970070</td><td>2015.5</td><td>0.05133440949152458</td><td>359.54088954795856</td><td>0.04535537327157197</td><td>49.362177539829105</td><td>0.0381028525084604</td><td>-0.1303681430226965</td><td>0.07262716009667831</td><td>-1.7950329</td><td>-0.014294115111354365</td><td>0.09886668739075023</td><td>0.09677163417318319</td><td>0.07382182674337807</td><td>-0.47861287</td><td>0.26414004</td><td>-0.46214932</td><td>0.21633627</td><td>-0.09772403</td><td>0.23597729</td><td>-0.20540176</td><td>-0.31473193</td><td>0.30152345</td><td>-0.29204485</td><td>566</td><td>0</td><td>565</td><td>1</td><td>2.8127954</td><td>658.76404</td><td>0.1501580712002866</td><td>1.085190557173055</td><td>31</td><td>True</td><td>2.994369</td><td>1.656657719727538</td><td>0.008494002875847782</td><td>0.02920062</td><td>64</td><td>20</td><td>0.101793855</td><td>2</td><td>67</td><td>False</td><td>585</td><td>3299.8459299930973</td><td>9.638526814981383</td><td>342.36</td><td>16.892132</td><td>64</td><td>2044.6189150673067</td><td>19.420287721895637</td><td>105.28263</td><td>17.074858</td><td>61</td><td>2311.2641157960898</td><td>22.197576138771275</td><td>104.12237</td><td>16.352297</td><td>1.3200262</td><td>0</td><td>0.7225609</td><td>0.1827259</td><td>0.539835</td><td>nan</td><td>nan</td><td>0</td><td>nan</td><td>nan</td><td>nan</td><td>NOT_AVAILABLE</td><td>114.08880943242775</td><td>-12.59266273929247</td><td>24.519532576588034</td><td>44.29071813939211</td><td>112001</td><td>6246.0</td><td>5939.0</td><td>7168.94</td><td>nan</td><td>nan</td><td>nan</td><td>nan</td><td>nan</td><td>nan</td><td>--</td><td>nan</td><td>nan</td><td>nan</td><td>nan</td><td>nan</td><td>nan</td><td>http://geadata.esac.esa.int/data-server/datalink/links?ID=1939912006057110784</td><td></td></tr>\n",
       "<tr><td>2355-106</td><td>1635721458409799680</td><td>Gaia DR2 2422872351110808192</td><td>2422872351110808192</td><td>925697446</td><td>2015.5</td><td>0.1911705200173323</td><td>359.54534323723965</td><td>0.1905380579442601</td><td>-10.335725403055726</td><td>0.15167895191516934</td><td>-0.16464643453540598</td><td>0.332696850459842</td><td>-0.49488425</td><td>0.290921418303612</td><td>0.40191852743395295</td><td>0.2090650082949943</td><td>0.4203019343849905</td><td>-0.0625576</td><td>0.34870195</td><td>-0.07759403</td><td>-0.26442373</td><td>-0.6888313</td><td>0.32645294</td><td>0.89081925</td><td>-0.24580489</td><td>-0.76916164</td><td>0.48794174</td><td>333</td><td>0</td><td>327</td><td>6</td><td>0.4898928</td><td>333.9093</td><td>0.0</td><td>2.239944496520538e-15</td><td>31</td><td>True</td><td>1.0214721</td><td>1.5899353263894391</td><td>0.024679538646438577</td><td>-0.15063664</td><td>38</td><td>8</td><td>0.48673743</td><td>2</td><td>44</td><td>False</td><td>358</td><td>1019.2959834187976</td><td>20.313762684974193</td><td>50.177605</td><td>18.167616</td><td>41</td><td>646.3084317787897</td><td>43.26025395737229</td><td>14.940005</td><td>18.325289</td><td>41</td><td>786.084169304731</td><td>61.425332746152144</td><td>12.797394</td><td>17.523247</td><td>1.4052764</td><td>0</td><td>0.802042</td><td>0.15767288</td><td>0.6443691</td><td>nan</td><td>nan</td><td>0</td><td>nan</td><td>nan</td><td>nan</td><td>NOT_AVAILABLE</td><td>83.63761860669275</td><td>-69.0390299947534</td><td>355.4359153350853</td><td>-9.294294791376348</td><td>--</td><td>nan</td><td>nan</td><td>nan</td><td>nan</td><td>nan</td><td>nan</td><td>nan</td><td>nan</td><td>nan</td><td>--</td><td>nan</td><td>nan</td><td>nan</td><td>nan</td><td>nan</td><td>nan</td><td>http://geadata.esac.esa.int/data-server/datalink/links?ID=2422872351110808192</td><td></td></tr>\n",
       "<tr><td>2355-291</td><td>1635721458409799680</td><td>Gaia DR2 2333182709435787776</td><td>2333182709435787776</td><td>1008538026</td><td>2015.5</td><td>0.2927803945582674</td><td>359.5707145768285</td><td>0.2917741873273835</td><td>-28.892806746178547</td><td>0.15628059416533086</td><td>0.10627948288992999</td><td>0.3726191130144369</td><td>0.28522286</td><td>-0.20735280782827734</td><td>0.45365866499946655</td><td>-0.5436308894133788</td><td>0.35092747190978923</td><td>-0.13168097</td><td>0.6064557</td><td>0.10560855</td><td>-0.17944214</td><td>-0.24126457</td><td>0.12831165</td><td>0.4959904</td><td>0.13456276</td><td>-0.45945933</td><td>0.02722774</td><td>177</td><td>0</td><td>177</td><td>0</td><td>-0.19779849</td><td>167.70103</td><td>0.0</td><td>0.0</td><td>31</td><td>True</td><td>0.42514223</td><td>1.4809534642973305</td><td>0.059051848050461105</td><td>-0.05341047</td><td>20</td><td>10</td><td>0.41221038</td><td>2</td><td>24</td><td>False</td><td>204</td><td>554.8858555497083</td><td>12.410844439344128</td><td>44.70976</td><td>18.827856</td><td>17</td><td>295.8742428032126</td><td>26.981107062590265</td><td>10.965979</td><td>19.17362</td><td>18</td><td>480.3514086655903</td><td>32.041658951216824</td><td>14.991465</td><td>18.058022</td><td>1.3988925</td><td>0</td><td>1.1155987</td><td>0.34576416</td><td>0.7698345</td><td>nan</td><td>nan</td><td>0</td><td>nan</td><td>nan</td><td>nan</td><td>NOT_AVAILABLE</td><td>21.284939769497075</td><td>-78.14251481141896</td><td>347.2433030337435</td><td>-26.14809785029854</td><td>--</td><td>nan</td><td>nan</td><td>nan</td><td>nan</td><td>nan</td><td>nan</td><td>nan</td><td>nan</td><td>nan</td><td>--</td><td>nan</td><td>nan</td><td>nan</td><td>nan</td><td>nan</td><td>nan</td><td>http://geadata.esac.esa.int/data-server/datalink/links?ID=2333182709435787776</td><td></td></tr>\n",
       "<tr><td>2355+042</td><td>1635721458409799680</td><td>Gaia DR2 2743431319760454784</td><td>2743431319760454784</td><td>650589460</td><td>2015.5</td><td>0.46061907968602117</td><td>359.6201958156148</td><td>0.4534901401537995</td><td>4.506899064276413</td><td>0.2476945779754251</td><td>0.2869313284358963</td><td>0.5970143577757694</td><td>0.48061043</td><td>-0.0712614784645513</td><td>1.0257954507504456</td><td>0.08597291314205324</td><td>0.4491473254209561</td><td>0.27909547</td><td>0.24632843</td><td>-0.07276163</td><td>-0.16565458</td><td>-0.19514142</td><td>-0.25524697</td><td>0.5448878</td><td>0.12690315</td><td>-0.5077434</td><td>0.10354436</td><td>287</td><td>0</td><td>284</td><td>3</td><td>1.0074815</td><td>302.77728</td><td>0.4439874195503882</td><td>0.35711649645059046</td><td>31</td><td>True</td><td>0.1457721</td><td>1.7661972966999047</td><td>0.06996150819446426</td><td>-0.070419095</td><td>33</td><td>12</td><td>0.904847</td><td>2</td><td>39</td><td>False</td><td>339</td><td>334.42282027195455</td><td>1.9719066006614263</td><td>169.59364</td><td>19.377626</td><td>37</td><td>243.48008629561087</td><td>9.403877771073157</td><td>25.891457</td><td>19.38523</td><td>36</td><td>229.42802666385555</td><td>6.769340262558769</td><td>33.892227</td><td>18.860304</td><td>1.4141024</td><td>0</td><td>0.52492523</td><td>0.0076026917</td><td>0.51732254</td><td>nan</td><td>nan</td><td>0</td><td>nan</td><td>nan</td><td>nan</td><td>NOT_AVAILABLE</td><td>98.91670015360837</td><td>-55.875901698979256</td><td>1.447724166969564</td><td>4.285333782321134</td><td>--</td><td>nan</td><td>nan</td><td>nan</td><td>nan</td><td>nan</td><td>nan</td><td>nan</td><td>nan</td><td>nan</td><td>--</td><td>nan</td><td>nan</td><td>nan</td><td>nan</td><td>nan</td><td>nan</td><td>http://geadata.esac.esa.int/data-server/datalink/links?ID=2743431319760454784</td><td></td></tr>\n",
       "<tr><td>2356+196</td><td>1635721458409799680</td><td>Gaia DR2 2846348636073398144</td><td>2846348636073398144</td><td>409959115</td><td>2015.5</td><td>0.1280856020827303</td><td>359.6920214809813</td><td>0.12796945554793984</td><td>19.92230610536164</td><td>0.06602475035842119</td><td>-0.12012468597522767</td><td>0.19076946374472792</td><td>-0.6296851</td><td>-0.2453156482502552</td><td>0.38485819761340534</td><td>-0.1585989197074405</td><td>0.11440367381079027</td><td>0.07084186</td><td>0.10498873</td><td>0.15269975</td><td>-0.008437672</td><td>-0.012578877</td><td>-0.08500793</td><td>0.53270376</td><td>-0.2986822</td><td>-0.2214064</td><td>-0.15401888</td><td>282</td><td>0</td><td>281</td><td>1</td><td>-0.012572893</td><td>275.03906</td><td>0.0</td><td>0.0</td><td>31</td><td>True</td><td>1.4396259</td><td>1.703845286688808</td><td>0.0275951261982363</td><td>-0.07708197</td><td>32</td><td>9</td><td>0.34358248</td><td>2</td><td>40</td><td>False</td><td>333</td><td>1381.016281445002</td><td>3.235076068323544</td><td>426.88834</td><td>17.83787</td><td>34</td><td>932.8784249557489</td><td>9.901111359948503</td><td>94.21957</td><td>17.926826</td><td>35</td><td>774.7895401307059</td><td>9.192175305064612</td><td>84.28794</td><td>17.538961</td><td>1.23653</td><td>0</td><td>0.38786507</td><td>0.08895683</td><td>0.29890823</td><td>nan</td><td>nan</td><td>0</td><td>nan</td><td>nan</td><td>nan</td><td>NOT_AVAILABLE</td><td>106.38156884428064</td><td>-41.25061649354451</td><td>7.926843961593512</td><td>18.338966004626123</td><td>--</td><td>nan</td><td>nan</td><td>nan</td><td>nan</td><td>nan</td><td>nan</td><td>nan</td><td>nan</td><td>nan</td><td>--</td><td>nan</td><td>nan</td><td>nan</td><td>nan</td><td>nan</td><td>nan</td><td>http://geadata.esac.esa.int/data-server/datalink/links?ID=2846348636073398144</td><td></td></tr>\n",
       "<tr><td>2356+390</td><td>1635721458409799680</td><td>Gaia DR2 2881824413103840640</td><td>2881824413103840640</td><td>1209480516</td><td>2015.5</td><td>0.5936923362406724</td><td>359.749395968046</td><td>0.5928529724592422</td><td>39.374529454485334</td><td>0.4178053965242822</td><td>-1.457994278553537</td><td>0.6858549902591801</td><td>-2.1258054</td><td>-0.9757219042230338</td><td>1.0926364904846153</td><td>-1.4599716455311564</td><td>0.7736428192801527</td><td>-0.05373973</td><td>0.32297555</td><td>-0.5206022</td><td>0.12009577</td><td>-0.2962973</td><td>0.05931571</td><td>-0.2214283</td><td>0.016982341</td><td>0.0013965784</td><td>-0.11564097</td><td>242</td><td>0</td><td>242</td><td>0</td><td>2.4032812</td><td>292.50037</td><td>0.0</td><td>0.0</td><td>31</td><td>True</td><td>0.04733595</td><td>1.8738190189334705</td><td>0.14548395392077557</td><td>-0.05607688</td><td>28</td><td>14</td><td>1.0289158</td><td>2</td><td>28</td><td>False</td><td>243</td><td>150.55286932270369</td><td>2.844735698146444</td><td>52.923325</td><td>20.244143</td><td>26</td><td>95.83736834373215</td><td>7.01435734244772</td><td>13.663029</td><td>20.39755</td><td>28</td><td>125.65611284313546</td><td>11.11125310194636</td><td>11.308906</td><td>19.513962</td><td>1.4712007</td><td>0</td><td>0.8835888</td><td>0.15340805</td><td>0.73018074</td><td>nan</td><td>nan</td><td>0</td><td>nan</td><td>nan</td><td>nan</td><td>NOT_AVAILABLE</td><td>112.00119221377027</td><td>-22.381587784005827</td><td>17.870986018107452</td><td>35.688873798133166</td><td>--</td><td>nan</td><td>nan</td><td>nan</td><td>nan</td><td>nan</td><td>nan</td><td>nan</td><td>nan</td><td>nan</td><td>--</td><td>nan</td><td>nan</td><td>nan</td><td>nan</td><td>nan</td><td>nan</td><td>http://geadata.esac.esa.int/data-server/datalink/links?ID=2881824413103840640</td><td></td></tr>\n",
       "<tr><td>2356-069</td><td>1635721458409799680</td><td>Gaia DR2 2442719699927398912</td><td>2442719699927398912</td><td>971617900</td><td>2015.5</td><td>0.1574074712209744</td><td>359.8825670653929</td><td>0.14816351132364577</td><td>-6.662039755965288</td><td>0.12398443590817744</td><td>-0.11328997326922</td><td>0.21449703735903788</td><td>-0.5281657</td><td>-0.0740010528077085</td><td>0.34177191412419955</td><td>0.40129098680670133</td><td>0.2929965285275884</td><td>0.28057915</td><td>0.2536043</td><td>0.17812593</td><td>0.006724818</td><td>-0.36411926</td><td>0.29821885</td><td>0.7156513</td><td>-0.3332265</td><td>-0.5883468</td><td>0.5411631</td><td>267</td><td>0</td><td>266</td><td>1</td><td>0.6233947</td><td>274.813</td><td>0.19104078297795404</td><td>0.3803616103809506</td><td>31</td><td>True</td><td>0.92191607</td><td>1.7354470411669132</td><td>0.02655337305614037</td><td>-0.02629111</td><td>31</td><td>11</td><td>0.36648464</td><td>2</td><td>36</td><td>False</td><td>311</td><td>1176.59274431436</td><td>4.45951337643386</td><td>263.8388</td><td>18.0118</td><td>29</td><td>765.323142472892</td><td>11.686028411601667</td><td>65.49044</td><td>18.141775</td><td>29</td><td>687.6938055401331</td><td>13.021478008119765</td><td>52.81227</td><td>17.668432</td><td>1.2349362</td><td>0</td><td>0.4733429</td><td>0.12997437</td><td>0.34336853</td><td>nan</td><td>nan</td><td>0</td><td>nan</td><td>nan</td><td>nan</td><td>NOT_AVAILABLE</td><td>89.51843749465907</td><td>-66.10683785796893</td><td>357.2324067034235</td><td>-6.063459889260785</td><td>--</td><td>nan</td><td>nan</td><td>nan</td><td>nan</td><td>nan</td><td>nan</td><td>nan</td><td>nan</td><td>nan</td><td>--</td><td>nan</td><td>nan</td><td>nan</td><td>nan</td><td>nan</td><td>nan</td><td>http://geadata.esac.esa.int/data-server/datalink/links?ID=2442719699927398912</td><td></td></tr>\n",
       "<tr><td>2356+385</td><td>1635721458409799680</td><td>Gaia DR2 2881745587567781760</td><td>2881745587567781760</td><td>330187856</td><td>2015.5</td><td>0.3125311707784482</td><td>359.88825312006725</td><td>0.3122550702098679</td><td>38.845088418055596</td><td>0.14957294662511464</td><td>-0.3226471676095256</td><td>0.3998854411416378</td><td>-0.806849</td><td>0.07389660333602562</td><td>0.409974227884268</td><td>-0.32793487771015584</td><td>0.2512880415967207</td><td>-0.07716936</td><td>0.7154714</td><td>-0.5760371</td><td>0.13291238</td><td>-0.12518246</td><td>0.07583458</td><td>-0.20194124</td><td>-0.43976322</td><td>0.11922228</td><td>-0.20147415</td><td>244</td><td>0</td><td>242</td><td>2</td><td>0.2978792</td><td>242.86636</td><td>0.0</td><td>0.0</td><td>31</td><td>True</td><td>0.30184048</td><td>1.6873806533800706</td><td>0.058649738094223546</td><td>-0.046726767</td><td>28</td><td>13</td><td>0.4723115</td><td>2</td><td>28</td><td>False</td><td>242</td><td>506.0001786641055</td><td>1.8213780024721469</td><td>277.81174</td><td>18.92799</td><td>24</td><td>293.85585811818476</td><td>13.56127845076747</td><td>21.668743</td><td>19.181053</td><td>25</td><td>326.83475988346146</td><td>6.196180601999353</td><td>52.74778</td><td>18.476099</td><td>1.2266608</td><td>0</td><td>0.70495415</td><td>0.2530632</td><td>0.45189095</td><td>nan</td><td>nan</td><td>0</td><td>nan</td><td>nan</td><td>nan</td><td>NOT_AVAILABLE</td><td>111.99030654137924</td><td>-22.92178732168612</td><td>17.66917735276699</td><td>35.17421089413473</td><td>--</td><td>nan</td><td>nan</td><td>nan</td><td>nan</td><td>nan</td><td>nan</td><td>nan</td><td>nan</td><td>nan</td><td>--</td><td>nan</td><td>nan</td><td>nan</td><td>nan</td><td>nan</td><td>nan</td><td>http://geadata.esac.esa.int/data-server/datalink/links?ID=2881745587567781760</td><td></td></tr>\n",
       "<tr><td>2357-318</td><td>1635721458409799680</td><td>Gaia DR2 2314424869267964672</td><td>2314424869267964672</td><td>783966707</td><td>2015.5</td><td>0.3170875184285182</td><td>359.89788135333566</td><td>0.3169246232565594</td><td>-31.562173586538673</td><td>0.2743059946342464</td><td>-0.10779626450696353</td><td>0.41094106410405906</td><td>-0.26231563</td><td>0.7432691082914483</td><td>0.9820586452846941</td><td>-0.47161990161966716</td><td>0.5817387923580262</td><td>0.018594222</td><td>0.049217355</td><td>-0.30169106</td><td>0.17057778</td><td>0.105201825</td><td>0.28359678</td><td>0.37764338</td><td>0.39069363</td><td>-0.28197974</td><td>-0.06734464</td><td>189</td><td>0</td><td>189</td><td>0</td><td>2.6051333</td><td>237.84418</td><td>1.0621530252965694</td><td>2.2264513603238534</td><td>31</td><td>True</td><td>0.15743205</td><td>1.729058291402387</td><td>0.0739190973872264</td><td>-0.025222186</td><td>22</td><td>10</td><td>0.8802493</td><td>2</td><td>22</td><td>False</td><td>191</td><td>379.3204807643348</td><td>4.4005114567965045</td><td>86.19918</td><td>19.24085</td><td>19</td><td>225.88434330503017</td><td>16.514114985808188</td><td>13.678259</td><td>19.466673</td><td>20</td><td>267.1176625913406</td><td>13.59891566322002</td><td>19.64257</td><td>18.695164</td><td>1.2996979</td><td>0</td><td>0.7715092</td><td>0.22582245</td><td>0.5456867</td><td>nan</td><td>nan</td><td>0</td><td>nan</td><td>nan</td><td>nan</td><td>NOT_AVAILABLE</td><td>8.404291126023749</td><td>-77.8732477334781</td><td>346.1803325595986</td><td>-28.661089449072</td><td>--</td><td>nan</td><td>nan</td><td>nan</td><td>nan</td><td>nan</td><td>nan</td><td>nan</td><td>nan</td><td>nan</td><td>--</td><td>nan</td><td>nan</td><td>nan</td><td>nan</td><td>nan</td><td>nan</td><td>http://geadata.esac.esa.int/data-server/datalink/links?ID=2314424869267964672</td><td></td></tr>\n",
       "</table>"
      ],
      "text/plain": [
       "<Table masked=True length=2820>\n",
       "iers_name ...\n",
       "          ...\n",
       "  bytes8  ...\n",
       "--------- ...\n",
       " 2357-326 ...\n",
       " 2358-161 ...\n",
       " 2359-221 ...\n",
       " 0000-199 ...\n",
       " 0000-197 ...\n",
       " 0001-120 ...\n",
       " 0001+459 ...\n",
       " 0002-478 ...\n",
       " 0002+541 ...\n",
       "      ... ...\n",
       " 2355-534 ...\n",
       " 2355+490 ...\n",
       " 2355-106 ...\n",
       " 2355-291 ...\n",
       " 2355+042 ...\n",
       " 2356+196 ...\n",
       " 2356+390 ...\n",
       " 2356-069 ...\n",
       " 2356+385 ...\n",
       " 2357-318 ..."
      ]
     },
     "execution_count": 6,
     "metadata": {},
     "output_type": "execute_result"
    }
   ],
   "source": [
    "from my_progs.catalog.read_gaia import read_dr2_iers\n",
    "\n",
    "gdr2 = read_dr2_iers()\n",
    "gdr2"
   ]
  },
  {
   "cell_type": "code",
   "execution_count": 7,
   "metadata": {},
   "outputs": [],
   "source": [
    "from my_progs.catalog.pos_diff import radio_cat_diff_calc\n",
    "\n",
    "# Crossmatch between ICRF2 and solution\n",
    "solvsicrf2 = radio_cat_diff_calc(sol, icrf2, sou_name=\"ivs_name\")\n",
    "\n",
    "\n",
    "# Crossmatch between Gaia DR2 and solution\n",
    "sol"
   ]
  }
 ],
 "metadata": {
  "kernelspec": {
   "display_name": "Python 3",
   "language": "python",
   "name": "python3"
  },
  "language_info": {
   "codemirror_mode": {
    "name": "ipython",
    "version": 3
   },
   "file_extension": ".py",
   "mimetype": "text/x-python",
   "name": "python",
   "nbconvert_exporter": "python",
   "pygments_lexer": "ipython3",
   "version": "3.7.3"
  },
  "latex_envs": {
   "LaTeX_envs_menu_present": true,
   "autoclose": false,
   "autocomplete": true,
   "bibliofile": "biblio.bib",
   "cite_by": "apalike",
   "current_citInitial": 1,
   "eqLabelWithNumbers": true,
   "eqNumInitial": 1,
   "hotkeys": {
    "equation": "Ctrl-E",
    "itemize": "Ctrl-I"
   },
   "labels_anchors": false,
   "latex_user_defs": false,
   "report_style_numbering": false,
   "user_envs_cfg": false
  }
 },
 "nbformat": 4,
 "nbformat_minor": 2
}
