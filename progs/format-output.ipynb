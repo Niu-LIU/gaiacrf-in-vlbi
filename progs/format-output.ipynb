{
 "cells": [
  {
   "cell_type": "code",
   "execution_count": 14,
   "metadata": {},
   "outputs": [
    {
     "name": "stdout",
     "output_type": "stream",
     "text": [
      "E$-$A  & 4600   &$  -60 \\pm     0$  &$   +2 \\pm     0$  &$   +6 \\pm     0$  &$   -0 \\pm     0$  &$   -3 \\pm     0$  &$   -1 \\pm     0$ \\\\\n",
      "D$-$A  & 4600   &$   -6 \\pm     0$  &$  -28 \\pm     0$  &$  -22 \\pm     0$  &$   -0 \\pm     0$  &$   +0 \\pm     0$  &$   +0 \\pm     0$ \\\\\n",
      "F$-$E  & 4356   &$+1739 \\pm     2$  &$-1624 \\pm     2$  &$  -87 \\pm     1$  &$   +1 \\pm     2$  &$   -8 \\pm     2$  &$   +2 \\pm     2$ \\\\\n",
      "B$-$A  & 4356   &$  -15 \\pm     0$  &$  +72 \\pm     0$  &$   +5 \\pm     0$  &$  +16 \\pm     0$  &$  +63 \\pm     0$  &$  +86 \\pm     0$ \\\\\n",
      "G$-$E  & 4600   &$  +31 \\pm     0$  &$  +90 \\pm     0$  &$   -9 \\pm     0$  &$   +0 \\pm     0$  &$   +0 \\pm     0$  &$   +0 \\pm     0$ \\\\\n",
      "C$-$A  & 4600   &$  -28 \\pm     0$  &$  +94 \\pm     0$  &$   -1 \\pm     0$  &$   +0 \\pm     0$  &$   -1 \\pm     0$  &$   -2 \\pm     0$ \\\\\n"
     ]
    }
   ],
   "source": [
    "import numpy as np\n",
    "\n",
    "datafile = \"../logs/vsh-parameter-deg01.txt\"\n",
    "\n",
    "sol = np.genfromtxt(datafile, usecols=(0,), dtype=str)\n",
    "[num, r1, r1_err, r2, r2_err, r3, r3_err,\n",
    " g1, g1_err, g2, g2_err, g3, g3_err] = np.genfromtxt(datafile, usecols=np.arange(1, 14),\n",
    "                                                     unpack=True)\n",
    "\n",
    "for i in range(sol.size):\n",
    "    line = \"  &${:+5.0f} \\pm {:5.0f}$\" * 6\n",
    "    print(\"{}  &{:5.0f}\".format(sol[i], num[i]),\n",
    "          line.format(r1[i], r1_err[i], r2[i], r2_err[i], r3[i], r3_err[i],\n",
    "                      g1[i], g1_err[i], g2[i], g2_err[i], g3[i], g3_err[i]),\n",
    "         \"\\\\\\\\\")"
   ]
  },
  {
   "cell_type": "code",
   "execution_count": 4,
   "metadata": {},
   "outputs": [
    {
     "data": {
      "text/plain": [
       "(array(['E$-$A', 'D$-$A', 'E$-$D', 'F$-$E', 'G$-$E', 'B$-$A'], dtype='<U5'),\n",
       " array([4600., 4600., 4600., 4600., 4600., 4356.]))"
      ]
     },
     "execution_count": 4,
     "metadata": {},
     "output_type": "execute_result"
    }
   ],
   "source": []
  }
 ],
 "metadata": {
  "hide_input": false,
  "kernelspec": {
   "display_name": "Python 3",
   "language": "python",
   "name": "python3"
  },
  "language_info": {
   "codemirror_mode": {
    "name": "ipython",
    "version": 3
   },
   "file_extension": ".py",
   "mimetype": "text/x-python",
   "name": "python",
   "nbconvert_exporter": "python",
   "pygments_lexer": "ipython3",
   "version": "3.7.4"
  },
  "latex_envs": {
   "LaTeX_envs_menu_present": true,
   "autoclose": false,
   "autocomplete": true,
   "bibliofile": "biblio.bib",
   "cite_by": "apalike",
   "current_citInitial": 1,
   "eqLabelWithNumbers": true,
   "eqNumInitial": 1,
   "hotkeys": {
    "equation": "Ctrl-E",
    "itemize": "Ctrl-I"
   },
   "labels_anchors": false,
   "latex_user_defs": false,
   "report_style_numbering": false,
   "user_envs_cfg": false
  }
 },
 "nbformat": 4,
 "nbformat_minor": 2
}
